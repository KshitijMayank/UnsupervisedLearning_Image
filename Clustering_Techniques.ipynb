{
  "nbformat": 4,
  "nbformat_minor": 0,
  "metadata": {
    "kernelspec": {
      "display_name": "Python 3",
      "language": "python",
      "name": "python3"
    },
    "language_info": {
      "codemirror_mode": {
        "name": "ipython",
        "version": 3
      },
      "file_extension": ".py",
      "mimetype": "text/x-python",
      "name": "python",
      "nbconvert_exporter": "python",
      "pygments_lexer": "ipython3",
      "version": "3.7.6"
    },
    "colab": {
      "name": "Clustering_Techniques.ipynb",
      "provenance": [],
      "include_colab_link": true
    }
  },
  "cells": [
    {
      "cell_type": "markdown",
      "metadata": {
        "id": "view-in-github",
        "colab_type": "text"
      },
      "source": [
        "<a href=\"https://colab.research.google.com/github/KshitijMayank/UnsupervisedLearning_Image/blob/master/Clustering_Techniques.ipynb\" target=\"_parent\"><img src=\"https://colab.research.google.com/assets/colab-badge.svg\" alt=\"Open In Colab\"/></a>"
      ]
    },
    {
      "cell_type": "markdown",
      "metadata": {
        "id": "V9BRrCcnxG5K",
        "colab_type": "text"
      },
      "source": [
        "# K-Means, Hierarchical and GMM Clustering\n",
        "\n",
        "## Creating the feature vector and normalizing it"
      ]
    },
    {
      "cell_type": "code",
      "metadata": {
        "id": "lYnhJBmDxG5L",
        "colab_type": "code",
        "colab": {}
      },
      "source": [
        "# For plots and figures\n",
        "from matplotlib import image\n",
        "import matplotlib.pyplot as plt\n",
        "from mpl_toolkits.mplot3d import Axes3D\n",
        "import seaborn as sns\n",
        "\n",
        "# for matrix manipulations\n",
        "import numpy as np\n",
        "import pandas as pd \n",
        "\n",
        "# For scaling\n",
        "from sklearn.preprocessing import MinMaxScaler\n",
        "\n",
        "# for Clustering\n",
        "from sklearn.cluster import KMeans, AgglomerativeClustering\n",
        "\n"
      ],
      "execution_count": 0,
      "outputs": []
    },
    {
      "cell_type": "code",
      "metadata": {
        "id": "t4NlNqouxG5P",
        "colab_type": "code",
        "outputId": "ce6c9460-4c89-4817-f333-b81170ba6abd",
        "colab": {}
      },
      "source": [
        "images =[]\n",
        "images.append(image.imread('3096_colorPlane.jpg'))\n",
        "images.append(image.imread('42049_colorBird.jpg'))\n",
        "\n",
        "# Check the dimensions of the image\n",
        "print('Image Plane: {} and Image Bird: {} '.format(images[0].shape,images[1].shape))"
      ],
      "execution_count": 0,
      "outputs": [
        {
          "output_type": "stream",
          "text": [
            "Image Plane: (321, 481, 3) and Image Bird: (321, 481, 3) \n"
          ],
          "name": "stdout"
        }
      ]
    },
    {
      "cell_type": "code",
      "metadata": {
        "id": "BRdpDYAexG5S",
        "colab_type": "code",
        "outputId": "41f43f46-20bb-4d50-9f48-7e29ed182b0b",
        "colab": {}
      },
      "source": [
        "## Creating a feture matrix \n",
        "# - By verticaly arranging the data as a DataFrame\n",
        "# - Adding the vertical and horizontal values over the data frame\n",
        "data_plane = images[0]\n",
        "size_plane=(data_plane.shape[0],data_plane.shape[1])\n",
        "array_transformed_plane = np.moveaxis(np.indices(size_plane),0,2)\n",
        "array_final_transformed_plane = np.dstack((array_transformed_plane, data_plane)).reshape((-1,5))\n",
        "\n",
        "data_bird = images[1]\n",
        "size_bird=(data_bird.shape[0],data_bird.shape[1])\n",
        "array_transformed = np.moveaxis(np.indices(size_bird),0,2)\n",
        "array_final_transformed_bird = np.dstack((array_transformed, data_bird)).reshape((-1,5))\n",
        "\n",
        "image_matrix_plane = pd.DataFrame(array_final_transformed_plane, columns=[\"v\",\"h\",\"r_val\",\"g_val\",\"b_val\"])\n",
        "print('Plane Matrix: \\n',image_matrix_plane.head(),'\\n \\n \\n ...',image_matrix_plane.tail())\n",
        "\n",
        "image_matrix_bird = pd.DataFrame(array_final_transformed_bird, columns=[\"v\",\"h\",\"r_val\",\"g_val\",\"b_val\"])\n",
        "print('\\n Bird Matrix: \\n',image_matrix_bird.head(),'\\n \\n \\n ...',image_matrix_bird.tail())\n"
      ],
      "execution_count": 0,
      "outputs": [
        {
          "output_type": "stream",
          "text": [
            "Plane Matrix: \n",
            "    v  h  r_val  g_val  b_val\n",
            "0  0  0    138    138    148\n",
            "1  0  1    138    138    148\n",
            "2  0  2    138    138    148\n",
            "3  0  3    137    137    147\n",
            "4  0  4    137    137    147 \n",
            " \n",
            " \n",
            " ...           v    h  r_val  g_val  b_val\n",
            "154396  320  476     85     98    115\n",
            "154397  320  477     86     99    116\n",
            "154398  320  478     84     97    114\n",
            "154399  320  479     80     93    110\n",
            "154400  320  480     54     64     74\n",
            "\n",
            " Bird Matrix: \n",
            "    v  h  r_val  g_val  b_val\n",
            "0  0  0     59     87    111\n",
            "1  0  1     60     88    112\n",
            "2  0  2     61     89    113\n",
            "3  0  3     63     91    115\n",
            "4  0  4     65     93    117 \n",
            " \n",
            " \n",
            " ...           v    h  r_val  g_val  b_val\n",
            "154396  320  476     44     54     55\n",
            "154397  320  477     45     50     54\n",
            "154398  320  478     27     27     35\n",
            "154399  320  479     29     27     38\n",
            "154400  320  480     88    102    128\n"
          ],
          "name": "stdout"
        }
      ]
    },
    {
      "cell_type": "code",
      "metadata": {
        "id": "B-xw5QNExG5V",
        "colab_type": "code",
        "outputId": "695f6cae-afa4-4449-e944-f56894d4df60",
        "colab": {}
      },
      "source": [
        "## Normalization of the Data\n",
        "from sklearn.preprocessing import MinMaxScaler\n",
        "scaler_plane = MinMaxScaler()\n",
        "scaler_bird = MinMaxScaler()\n",
        "# For plane\n",
        "scaler_plane.fit(image_matrix_plane)\n",
        "normalized_matrix_plane = scaler_plane.transform(image_matrix_plane)\n",
        "\n",
        "# For Bird\n",
        "scaler_bird.fit(image_matrix_plane)\n",
        "normalized_matrix_bird = scaler_bird.transform(image_matrix_bird)\n",
        "\n",
        "colName= ['v','h','R_val','G_val','B_val']\n",
        "# For plane\n",
        "normalized_matrix_plane = pd.DataFrame(normalized_matrix_plane)\n",
        "# For bird\n",
        "normalized_matrix_bird = pd.DataFrame(normalized_matrix_bird)\n",
        "normalized_matrix_plane.columns = colName\n",
        "normalized_matrix_bird.columns = colName\n",
        "print('plane data normalised: \\n',normalized_matrix_plane.head())\n",
        "print('\\n bird data normalised: \\n',normalized_matrix_bird.head())"
      ],
      "execution_count": 0,
      "outputs": [
        {
          "output_type": "stream",
          "text": [
            "plane data normalised: \n",
            "      v         h     R_val     G_val     B_val\n",
            "0  0.0  0.000000  0.750000  0.754098  0.826816\n",
            "1  0.0  0.002083  0.750000  0.754098  0.826816\n",
            "2  0.0  0.004167  0.750000  0.754098  0.826816\n",
            "3  0.0  0.006250  0.744565  0.748634  0.821229\n",
            "4  0.0  0.008333  0.744565  0.748634  0.821229\n",
            "\n",
            " bird data normalised: \n",
            "      v         h     R_val     G_val     B_val\n",
            "0  0.0  0.000000  0.320652  0.475410  0.620112\n",
            "1  0.0  0.002083  0.326087  0.480874  0.625698\n",
            "2  0.0  0.004167  0.331522  0.486339  0.631285\n",
            "3  0.0  0.006250  0.342391  0.497268  0.642458\n",
            "4  0.0  0.008333  0.353261  0.508197  0.653631\n"
          ],
          "name": "stdout"
        }
      ]
    },
    {
      "cell_type": "markdown",
      "metadata": {
        "id": "WVUe3npDxG5X",
        "colab_type": "text"
      },
      "source": [
        "## K-Means Clustering\n",
        "### *Getting the optimal k value*"
      ]
    },
    {
      "cell_type": "code",
      "metadata": {
        "id": "XGer6ebpxG5X",
        "colab_type": "code",
        "colab": {}
      },
      "source": [
        "def find_optimal_k(std_data,type):\n",
        "    loss = []\n",
        "    k = list(range(2, 15))\n",
        "    for noc in k:\n",
        "        model = KMeans(n_clusters = noc)\n",
        "        model.fit(normalized_matrix_plane)\n",
        "        loss.append(model.inertia_)\n",
        "    plt.plot(k, loss, \"-o\")\n",
        "    plt.title(\"{} Image:Elbow method to choose k\".format(type))\n",
        "    plt.xlabel(\"K\")\n",
        "    plt.ylabel(\"Loss\")\n",
        "    plt.grid()\n",
        "    plt.show()"
      ],
      "execution_count": 0,
      "outputs": []
    },
    {
      "cell_type": "code",
      "metadata": {
        "id": "orx_r-JZxG5a",
        "colab_type": "code",
        "outputId": "a02e38f7-5b7b-4628-9a61-d4127a19e294",
        "colab": {}
      },
      "source": [
        "find_optimal_k(normalized_matrix_plane,'Plane')"
      ],
      "execution_count": 0,
      "outputs": [
        {
          "output_type": "display_data",
          "data": {
            "image/png": "[encoded data removed]",
            "text/plain": [
              "<Figure size 432x288 with 1 Axes>"
            ]
          },
          "metadata": {
            "tags": [],
            "needs_background": "light"
          }
        }
      ]
    },
    {
      "cell_type": "code",
      "metadata": {
        "id": "TjWXYrv4xG5d",
        "colab_type": "code",
        "outputId": "7d981013-2f98-4766-8e05-7ef7065b5845",
        "colab": {}
      },
      "source": [
        "find_optimal_k(normalized_matrix_bird,'Bird')"
      ],
      "execution_count": 0,
      "outputs": [
        {
          "output_type": "display_data",
          "data": {
            "image/png": "[encoded data removed]",
            "text/plain": [
              "<Figure size 432x288 with 1 Axes>"
            ]
          },
          "metadata": {
            "tags": [],
            "needs_background": "light"
          }
        }
      ]
    },
    {
      "cell_type": "markdown",
      "metadata": {
        "id": "-jlOL3IexG5g",
        "colab_type": "text"
      },
      "source": [
        "### `Observation:`\n",
        "**The optimal value for each of the images seems to be around the knee value which is at k=5**"
      ]
    },
    {
      "cell_type": "code",
      "metadata": {
        "id": "YPxv8ykCxG5g",
        "colab_type": "code",
        "colab": {}
      },
      "source": [
        ""
      ],
      "execution_count": 0,
      "outputs": []
    }
  ]
}